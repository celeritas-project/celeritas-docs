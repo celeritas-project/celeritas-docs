version https://git-lfs.github.com/spec/v1
oid sha256:e3560ba7d54eda526f1761c6680decca25ec2457f11fa6b9632c6e7100e19a5f
size 78195

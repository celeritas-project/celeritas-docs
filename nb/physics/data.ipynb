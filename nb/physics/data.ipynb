version https://git-lfs.github.com/spec/v1
oid sha256:99c9d9ace9e2d142ca940fa0072d6bebefd680551e8870b6407b7888fe9a624f
size 78195

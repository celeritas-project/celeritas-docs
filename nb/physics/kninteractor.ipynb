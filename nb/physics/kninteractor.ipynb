version https://git-lfs.github.com/spec/v1
oid sha256:9f552b06ab7d39ae3c76ea4117ed7d2f423e5a9209f64ac56830fe46b52c0bd9
size 34201

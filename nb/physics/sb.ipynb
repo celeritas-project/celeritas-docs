version https://git-lfs.github.com/spec/v1
oid sha256:51f94ed57329ce16133f17e2c10e59ac659b1667c97ffcd3d653f6e5224aaacf
size 621998

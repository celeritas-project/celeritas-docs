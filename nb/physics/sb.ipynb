version https://git-lfs.github.com/spec/v1
oid sha256:bc47779a679f7734601b38476028a4909fa4bd7e1bd3eb2173927a7603d38eb7
size 610838

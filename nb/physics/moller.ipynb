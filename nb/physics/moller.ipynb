version https://git-lfs.github.com/spec/v1
oid sha256:ae681c9fa39c2d35b1ac07ff7e648c84e29804f8575418061d5f58ace0a9f0a8
size 44312
